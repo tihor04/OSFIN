{
 "cells": [
  {
   "cell_type": "code",
   "execution_count": 1,
   "id": "41ffda9b",
   "metadata": {},
   "outputs": [],
   "source": [
    "import numpy as np \n",
    "import pandas as pd \n",
    "import matplotlib.pyplot as plt \n",
    "import seaborn as sns "
   ]
  },
  {
   "cell_type": "code",
   "execution_count": 2,
   "id": "e37a84de",
   "metadata": {},
   "outputs": [],
   "source": [
    "siply_duplicates= pd.read_csv(\"siply_duplicates_file.csv\")\n",
    "cashfree_duplicates=pd.read_csv(\"cashfree_duplicates.csv\")\n",
    "siply_unique=pd.read_csv('siply_unique.csv')\n",
    "cashfree_unique=pd.read_csv('cashfree_unique.csv')"
   ]
  },
  {
   "cell_type": "code",
   "execution_count": 3,
   "id": "d06201ef",
   "metadata": {},
   "outputs": [],
   "source": [
    "# analysing the duplicate entries in the when payment gateway is siply."
   ]
  },
  {
   "cell_type": "code",
   "execution_count": 4,
   "id": "e54dcb81",
   "metadata": {},
   "outputs": [
    {
     "data": {
      "text/html": [
       "<div>\n",
       "<style scoped>\n",
       "    .dataframe tbody tr th:only-of-type {\n",
       "        vertical-align: middle;\n",
       "    }\n",
       "\n",
       "    .dataframe tbody tr th {\n",
       "        vertical-align: top;\n",
       "    }\n",
       "\n",
       "    .dataframe thead th {\n",
       "        text-align: right;\n",
       "    }\n",
       "</style>\n",
       "<table border=\"1\" class=\"dataframe\">\n",
       "  <thead>\n",
       "    <tr style=\"text-align: right;\">\n",
       "      <th></th>\n",
       "      <th>GOAL_ID</th>\n",
       "      <th>STATUS_FLAG</th>\n",
       "      <th>AMOUNT</th>\n",
       "      <th>TXN_STATUS</th>\n",
       "      <th>TRXNS_TYPE</th>\n",
       "      <th>PAYMENT_MODE</th>\n",
       "      <th>FTR_NUMBER</th>\n",
       "      <th>TRXNS_DATE</th>\n",
       "      <th>PAYMENT_GATEWAY</th>\n",
       "      <th>CHITS_GROUP_ID</th>\n",
       "      <th>CUSTOMER_ID</th>\n",
       "      <th>PAYMENT_DATE</th>\n",
       "      <th>USER_GOAL_ID</th>\n",
       "      <th>duplicate_count</th>\n",
       "    </tr>\n",
       "  </thead>\n",
       "  <tbody>\n",
       "    <tr>\n",
       "      <th>0</th>\n",
       "      <td>2571907</td>\n",
       "      <td>member</td>\n",
       "      <td>4000</td>\n",
       "      <td>SUCCESS</td>\n",
       "      <td>EMI</td>\n",
       "      <td>UPI</td>\n",
       "      <td>2571907T1669828791041</td>\n",
       "      <td>30-11-2022</td>\n",
       "      <td>SIPLY</td>\n",
       "      <td>2475717</td>\n",
       "      <td>2313472</td>\n",
       "      <td>01-12-2022</td>\n",
       "      <td>2571907</td>\n",
       "      <td>2</td>\n",
       "    </tr>\n",
       "    <tr>\n",
       "      <th>1</th>\n",
       "      <td>766047</td>\n",
       "      <td>member</td>\n",
       "      <td>1500</td>\n",
       "      <td>SUCCESS</td>\n",
       "      <td>EMI</td>\n",
       "      <td>UPI</td>\n",
       "      <td>766047T1669621928773</td>\n",
       "      <td>28-11-2022</td>\n",
       "      <td>SIPLY</td>\n",
       "      <td>647769</td>\n",
       "      <td>684234</td>\n",
       "      <td>29-11-2022</td>\n",
       "      <td>766047</td>\n",
       "      <td>6</td>\n",
       "    </tr>\n",
       "    <tr>\n",
       "      <th>2</th>\n",
       "      <td>734249</td>\n",
       "      <td>member</td>\n",
       "      <td>250</td>\n",
       "      <td>SUCCESS</td>\n",
       "      <td>EMI</td>\n",
       "      <td>UPI</td>\n",
       "      <td>734249T1669621853198</td>\n",
       "      <td>28-11-2022</td>\n",
       "      <td>SIPLY</td>\n",
       "      <td>729592</td>\n",
       "      <td>684234</td>\n",
       "      <td>29-11-2022</td>\n",
       "      <td>734249</td>\n",
       "      <td>6</td>\n",
       "    </tr>\n",
       "    <tr>\n",
       "      <th>3</th>\n",
       "      <td>2548738</td>\n",
       "      <td>member</td>\n",
       "      <td>1000</td>\n",
       "      <td>SUCCESS</td>\n",
       "      <td>EMI</td>\n",
       "      <td>UPI</td>\n",
       "      <td>2548738T1669465606649</td>\n",
       "      <td>26-11-2022</td>\n",
       "      <td>SIPLY</td>\n",
       "      <td>2517391</td>\n",
       "      <td>2548730</td>\n",
       "      <td>28-11-2022</td>\n",
       "      <td>2548738</td>\n",
       "      <td>2</td>\n",
       "    </tr>\n",
       "    <tr>\n",
       "      <th>4</th>\n",
       "      <td>2548683</td>\n",
       "      <td>member</td>\n",
       "      <td>1000</td>\n",
       "      <td>SUCCESS</td>\n",
       "      <td>EMI</td>\n",
       "      <td>UPI</td>\n",
       "      <td>2548683T1669462455108</td>\n",
       "      <td>26-11-2022</td>\n",
       "      <td>SIPLY</td>\n",
       "      <td>2517391</td>\n",
       "      <td>2449114</td>\n",
       "      <td>28-11-2022</td>\n",
       "      <td>2548683</td>\n",
       "      <td>2</td>\n",
       "    </tr>\n",
       "  </tbody>\n",
       "</table>\n",
       "</div>"
      ],
      "text/plain": [
       "   GOAL_ID STATUS_FLAG  AMOUNT TXN_STATUS TRXNS_TYPE PAYMENT_MODE  \\\n",
       "0  2571907      member    4000    SUCCESS        EMI          UPI   \n",
       "1   766047      member    1500    SUCCESS        EMI          UPI   \n",
       "2   734249      member     250    SUCCESS        EMI          UPI   \n",
       "3  2548738      member    1000    SUCCESS        EMI          UPI   \n",
       "4  2548683      member    1000    SUCCESS        EMI          UPI   \n",
       "\n",
       "              FTR_NUMBER  TRXNS_DATE PAYMENT_GATEWAY  CHITS_GROUP_ID  \\\n",
       "0  2571907T1669828791041  30-11-2022           SIPLY         2475717   \n",
       "1   766047T1669621928773  28-11-2022           SIPLY          647769   \n",
       "2   734249T1669621853198  28-11-2022           SIPLY          729592   \n",
       "3  2548738T1669465606649  26-11-2022           SIPLY         2517391   \n",
       "4  2548683T1669462455108  26-11-2022           SIPLY         2517391   \n",
       "\n",
       "   CUSTOMER_ID PAYMENT_DATE  USER_GOAL_ID  duplicate_count  \n",
       "0      2313472   01-12-2022       2571907                2  \n",
       "1       684234   29-11-2022        766047                6  \n",
       "2       684234   29-11-2022        734249                6  \n",
       "3      2548730   28-11-2022       2548738                2  \n",
       "4      2449114   28-11-2022       2548683                2  "
      ]
     },
     "execution_count": 4,
     "metadata": {},
     "output_type": "execute_result"
    }
   ],
   "source": [
    "siply_duplicates.head()"
   ]
  },
  {
   "cell_type": "code",
   "execution_count": 5,
   "id": "94c0d6d3",
   "metadata": {},
   "outputs": [],
   "source": [
    "# total missmatch in the entries due to duplicates in the entry : "
   ]
  },
  {
   "cell_type": "code",
   "execution_count": 6,
   "id": "3994b73e",
   "metadata": {},
   "outputs": [
    {
     "name": "stdout",
     "output_type": "stream",
     "text": [
      "99868\n"
     ]
    }
   ],
   "source": [
    "loss=0\n",
    "for x,y in zip(siply_duplicates['AMOUNT'],siply_duplicates['duplicate_count']):\n",
    "    loss+= x*(y-1)\n",
    "print(loss)"
   ]
  },
  {
   "cell_type": "code",
   "execution_count": 7,
   "id": "c8d4fa57",
   "metadata": {},
   "outputs": [],
   "source": [
    "# Date vs number of duplicate entries"
   ]
  },
  {
   "cell_type": "code",
   "execution_count": 35,
   "id": "16ce6cc0",
   "metadata": {},
   "outputs": [
    {
     "data": {
      "text/plain": [
       "<AxesSubplot:xlabel='TRXNS_DATE', ylabel='duplicate_count'>"
      ]
     },
     "execution_count": 35,
     "metadata": {},
     "output_type": "execute_result"
    },
    {
     "data": {
      "image/png": "[encoded data removed]",
      "text/plain": [
       "<Figure size 2500x1000 with 1 Axes>"
      ]
     },
     "metadata": {},
     "output_type": "display_data"
    }
   ],
   "source": [
    "plt.figure(figsize=(25,10))\n",
    "sns.scatterplot(x='TRXNS_DATE',y='duplicate_count',data=siply_duplicates)"
   ]
  },
  {
   "cell_type": "code",
   "execution_count": null,
   "id": "1d801aaa",
   "metadata": {},
   "outputs": [],
   "source": [
    "# as observed the number of duplicates keeps on increasing from 05-2022"
   ]
  },
  {
   "cell_type": "code",
   "execution_count": 9,
   "id": "69160a5d",
   "metadata": {},
   "outputs": [],
   "source": [
    "# difference in transaction and payment date can be a factor for this faliure"
   ]
  },
  {
   "cell_type": "code",
   "execution_count": 10,
   "id": "5e401864",
   "metadata": {},
   "outputs": [
    {
     "name": "stderr",
     "output_type": "stream",
     "text": [
      "C:\\Users\\hp\\anaconda3\\lib\\site-packages\\pandas\\core\\tools\\datetimes.py:1047: UserWarning: Parsing '29-11-2022' in DD/MM/YYYY format. Provide format or specify infer_datetime_format=True for consistent parsing.\n",
      "  cache_array = _maybe_cache(arg, format, cache, convert_listlike)\n",
      "C:\\Users\\hp\\anaconda3\\lib\\site-packages\\pandas\\core\\tools\\datetimes.py:1047: UserWarning: Parsing '28-11-2022' in DD/MM/YYYY format. Provide format or specify infer_datetime_format=True for consistent parsing.\n",
      "  cache_array = _maybe_cache(arg, format, cache, convert_listlike)\n",
      "C:\\Users\\hp\\anaconda3\\lib\\site-packages\\pandas\\core\\tools\\datetimes.py:1047: UserWarning: Parsing '25-11-2022' in DD/MM/YYYY format. Provide format or specify infer_datetime_format=True for consistent parsing.\n",
      "  cache_array = _maybe_cache(arg, format, cache, convert_listlike)\n",
      "C:\\Users\\hp\\anaconda3\\lib\\site-packages\\pandas\\core\\tools\\datetimes.py:1047: UserWarning: Parsing '14-11-2022' in DD/MM/YYYY format. Provide format or specify infer_datetime_format=True for consistent parsing.\n",
      "  cache_array = _maybe_cache(arg, format, cache, convert_listlike)\n",
      "C:\\Users\\hp\\anaconda3\\lib\\site-packages\\pandas\\core\\tools\\datetimes.py:1047: UserWarning: Parsing '30-11-2022' in DD/MM/YYYY format. Provide format or specify infer_datetime_format=True for consistent parsing.\n",
      "  cache_array = _maybe_cache(arg, format, cache, convert_listlike)\n",
      "C:\\Users\\hp\\anaconda3\\lib\\site-packages\\pandas\\core\\tools\\datetimes.py:1047: UserWarning: Parsing '28-11-2022' in DD/MM/YYYY format. Provide format or specify infer_datetime_format=True for consistent parsing.\n",
      "  cache_array = _maybe_cache(arg, format, cache, convert_listlike)\n",
      "C:\\Users\\hp\\anaconda3\\lib\\site-packages\\pandas\\core\\tools\\datetimes.py:1047: UserWarning: Parsing '26-11-2022' in DD/MM/YYYY format. Provide format or specify infer_datetime_format=True for consistent parsing.\n",
      "  cache_array = _maybe_cache(arg, format, cache, convert_listlike)\n",
      "C:\\Users\\hp\\anaconda3\\lib\\site-packages\\pandas\\core\\tools\\datetimes.py:1047: UserWarning: Parsing '24-11-2022' in DD/MM/YYYY format. Provide format or specify infer_datetime_format=True for consistent parsing.\n",
      "  cache_array = _maybe_cache(arg, format, cache, convert_listlike)\n",
      "C:\\Users\\hp\\anaconda3\\lib\\site-packages\\pandas\\core\\tools\\datetimes.py:1047: UserWarning: Parsing '13-11-2022' in DD/MM/YYYY format. Provide format or specify infer_datetime_format=True for consistent parsing.\n",
      "  cache_array = _maybe_cache(arg, format, cache, convert_listlike)\n"
     ]
    },
    {
     "data": {
      "text/html": [
       "<div>\n",
       "<style scoped>\n",
       "    .dataframe tbody tr th:only-of-type {\n",
       "        vertical-align: middle;\n",
       "    }\n",
       "\n",
       "    .dataframe tbody tr th {\n",
       "        vertical-align: top;\n",
       "    }\n",
       "\n",
       "    .dataframe thead th {\n",
       "        text-align: right;\n",
       "    }\n",
       "</style>\n",
       "<table border=\"1\" class=\"dataframe\">\n",
       "  <thead>\n",
       "    <tr style=\"text-align: right;\">\n",
       "      <th></th>\n",
       "      <th>GOAL_ID</th>\n",
       "      <th>STATUS_FLAG</th>\n",
       "      <th>AMOUNT</th>\n",
       "      <th>TXN_STATUS</th>\n",
       "      <th>TRXNS_TYPE</th>\n",
       "      <th>PAYMENT_MODE</th>\n",
       "      <th>FTR_NUMBER</th>\n",
       "      <th>TRXNS_DATE</th>\n",
       "      <th>PAYMENT_GATEWAY</th>\n",
       "      <th>CHITS_GROUP_ID</th>\n",
       "      <th>CUSTOMER_ID</th>\n",
       "      <th>PAYMENT_DATE</th>\n",
       "      <th>USER_GOAL_ID</th>\n",
       "      <th>duplicate_count</th>\n",
       "      <th>Transaction_delay</th>\n",
       "    </tr>\n",
       "  </thead>\n",
       "  <tbody>\n",
       "    <tr>\n",
       "      <th>0</th>\n",
       "      <td>2571907</td>\n",
       "      <td>member</td>\n",
       "      <td>4000</td>\n",
       "      <td>SUCCESS</td>\n",
       "      <td>EMI</td>\n",
       "      <td>UPI</td>\n",
       "      <td>2571907T1669828791041</td>\n",
       "      <td>2022-11-30</td>\n",
       "      <td>SIPLY</td>\n",
       "      <td>2475717</td>\n",
       "      <td>2313472</td>\n",
       "      <td>2022-01-12</td>\n",
       "      <td>2571907</td>\n",
       "      <td>2</td>\n",
       "      <td>-322 days</td>\n",
       "    </tr>\n",
       "    <tr>\n",
       "      <th>1</th>\n",
       "      <td>766047</td>\n",
       "      <td>member</td>\n",
       "      <td>1500</td>\n",
       "      <td>SUCCESS</td>\n",
       "      <td>EMI</td>\n",
       "      <td>UPI</td>\n",
       "      <td>766047T1669621928773</td>\n",
       "      <td>2022-11-28</td>\n",
       "      <td>SIPLY</td>\n",
       "      <td>647769</td>\n",
       "      <td>684234</td>\n",
       "      <td>2022-11-29</td>\n",
       "      <td>766047</td>\n",
       "      <td>6</td>\n",
       "      <td>1 days</td>\n",
       "    </tr>\n",
       "    <tr>\n",
       "      <th>2</th>\n",
       "      <td>734249</td>\n",
       "      <td>member</td>\n",
       "      <td>250</td>\n",
       "      <td>SUCCESS</td>\n",
       "      <td>EMI</td>\n",
       "      <td>UPI</td>\n",
       "      <td>734249T1669621853198</td>\n",
       "      <td>2022-11-28</td>\n",
       "      <td>SIPLY</td>\n",
       "      <td>729592</td>\n",
       "      <td>684234</td>\n",
       "      <td>2022-11-29</td>\n",
       "      <td>734249</td>\n",
       "      <td>6</td>\n",
       "      <td>1 days</td>\n",
       "    </tr>\n",
       "    <tr>\n",
       "      <th>3</th>\n",
       "      <td>2548738</td>\n",
       "      <td>member</td>\n",
       "      <td>1000</td>\n",
       "      <td>SUCCESS</td>\n",
       "      <td>EMI</td>\n",
       "      <td>UPI</td>\n",
       "      <td>2548738T1669465606649</td>\n",
       "      <td>2022-11-26</td>\n",
       "      <td>SIPLY</td>\n",
       "      <td>2517391</td>\n",
       "      <td>2548730</td>\n",
       "      <td>2022-11-28</td>\n",
       "      <td>2548738</td>\n",
       "      <td>2</td>\n",
       "      <td>2 days</td>\n",
       "    </tr>\n",
       "    <tr>\n",
       "      <th>4</th>\n",
       "      <td>2548683</td>\n",
       "      <td>member</td>\n",
       "      <td>1000</td>\n",
       "      <td>SUCCESS</td>\n",
       "      <td>EMI</td>\n",
       "      <td>UPI</td>\n",
       "      <td>2548683T1669462455108</td>\n",
       "      <td>2022-11-26</td>\n",
       "      <td>SIPLY</td>\n",
       "      <td>2517391</td>\n",
       "      <td>2449114</td>\n",
       "      <td>2022-11-28</td>\n",
       "      <td>2548683</td>\n",
       "      <td>2</td>\n",
       "      <td>2 days</td>\n",
       "    </tr>\n",
       "  </tbody>\n",
       "</table>\n",
       "</div>"
      ],
      "text/plain": [
       "   GOAL_ID STATUS_FLAG  AMOUNT TXN_STATUS TRXNS_TYPE PAYMENT_MODE  \\\n",
       "0  2571907      member    4000    SUCCESS        EMI          UPI   \n",
       "1   766047      member    1500    SUCCESS        EMI          UPI   \n",
       "2   734249      member     250    SUCCESS        EMI          UPI   \n",
       "3  2548738      member    1000    SUCCESS        EMI          UPI   \n",
       "4  2548683      member    1000    SUCCESS        EMI          UPI   \n",
       "\n",
       "              FTR_NUMBER TRXNS_DATE PAYMENT_GATEWAY  CHITS_GROUP_ID  \\\n",
       "0  2571907T1669828791041 2022-11-30           SIPLY         2475717   \n",
       "1   766047T1669621928773 2022-11-28           SIPLY          647769   \n",
       "2   734249T1669621853198 2022-11-28           SIPLY          729592   \n",
       "3  2548738T1669465606649 2022-11-26           SIPLY         2517391   \n",
       "4  2548683T1669462455108 2022-11-26           SIPLY         2517391   \n",
       "\n",
       "   CUSTOMER_ID PAYMENT_DATE  USER_GOAL_ID  duplicate_count Transaction_delay  \n",
       "0      2313472   2022-01-12       2571907                2         -322 days  \n",
       "1       684234   2022-11-29        766047                6            1 days  \n",
       "2       684234   2022-11-29        734249                6            1 days  \n",
       "3      2548730   2022-11-28       2548738                2            2 days  \n",
       "4      2449114   2022-11-28       2548683                2            2 days  "
      ]
     },
     "execution_count": 10,
     "metadata": {},
     "output_type": "execute_result"
    }
   ],
   "source": [
    "siply_duplicates['PAYMENT_DATE']=pd.to_datetime(siply_duplicates['PAYMENT_DATE'])\n",
    "siply_duplicates['TRXNS_DATE']= pd.to_datetime(siply_duplicates['TRXNS_DATE'])\n",
    "\n",
    "siply_duplicates['Transaction_delay']=siply_duplicates['PAYMENT_DATE'] - siply_duplicates['TRXNS_DATE']\n",
    "\n",
    "siply_duplicates.head()"
   ]
  },
  {
   "cell_type": "code",
   "execution_count": 11,
   "id": "d60db3f6",
   "metadata": {},
   "outputs": [
    {
     "data": {
      "text/plain": [
       "<AxesSubplot:xlabel='Transaction_delay', ylabel='duplicate_count'>"
      ]
     },
     "execution_count": 11,
     "metadata": {},
     "output_type": "execute_result"
    },
    {
     "data": {
      "image/png": "[encoded data removed]",
      "text/plain": [
       "<Figure size 640x480 with 1 Axes>"
      ]
     },
     "metadata": {},
     "output_type": "display_data"
    }
   ],
   "source": [
    "sns.scatterplot(x='Transaction_delay',y='duplicate_count',data=siply_duplicates)"
   ]
  },
  {
   "cell_type": "code",
   "execution_count": null,
   "id": "cf473bbe",
   "metadata": {},
   "outputs": [],
   "source": [
    "# as per the above graph, we can see that less transaction delay might lead to more redundant entries"
   ]
  },
  {
   "cell_type": "code",
   "execution_count": 12,
   "id": "8665bb58",
   "metadata": {},
   "outputs": [
    {
     "data": {
      "text/plain": [
       "<AxesSubplot:xlabel='TRXNS_TYPE', ylabel='count'>"
      ]
     },
     "execution_count": 12,
     "metadata": {},
     "output_type": "execute_result"
    },
    {
     "data": {
      "image/png": "[encoded data removed]",
      "text/plain": [
       "<Figure size 640x480 with 1 Axes>"
      ]
     },
     "metadata": {},
     "output_type": "display_data"
    }
   ],
   "source": [
    "sns.countplot(x='TRXNS_TYPE',data=siply_duplicates)"
   ]
  },
  {
   "cell_type": "code",
   "execution_count": 13,
   "id": "faee87aa",
   "metadata": {},
   "outputs": [],
   "source": [
    "# analysing cashfree duplicates"
   ]
  },
  {
   "cell_type": "code",
   "execution_count": 14,
   "id": "080b98f1",
   "metadata": {},
   "outputs": [
    {
     "data": {
      "text/html": [
       "<div>\n",
       "<style scoped>\n",
       "    .dataframe tbody tr th:only-of-type {\n",
       "        vertical-align: middle;\n",
       "    }\n",
       "\n",
       "    .dataframe tbody tr th {\n",
       "        vertical-align: top;\n",
       "    }\n",
       "\n",
       "    .dataframe thead th {\n",
       "        text-align: right;\n",
       "    }\n",
       "</style>\n",
       "<table border=\"1\" class=\"dataframe\">\n",
       "  <thead>\n",
       "    <tr style=\"text-align: right;\">\n",
       "      <th></th>\n",
       "      <th>GOAL_ID</th>\n",
       "      <th>STATUS_FLAG</th>\n",
       "      <th>AMOUNT</th>\n",
       "      <th>TXN_STATUS</th>\n",
       "      <th>TRXNS_TYPE</th>\n",
       "      <th>PAYMENT_MODE</th>\n",
       "      <th>FTR_NUMBER</th>\n",
       "      <th>TRXNS_DATE</th>\n",
       "      <th>PAYMENT_GATEWAY</th>\n",
       "      <th>CFAMOUNT</th>\n",
       "      <th>SERVICE_CHARGE</th>\n",
       "      <th>ST_GST</th>\n",
       "      <th>SETTLEMENT_AMOUNT</th>\n",
       "      <th>BANK_NAME</th>\n",
       "      <th>SETTLEMENT</th>\n",
       "      <th>SETTLED_DATE</th>\n",
       "      <th>duplicate_count</th>\n",
       "    </tr>\n",
       "  </thead>\n",
       "  <tbody>\n",
       "    <tr>\n",
       "      <th>0</th>\n",
       "      <td>306821</td>\n",
       "      <td>member</td>\n",
       "      <td>4000</td>\n",
       "      <td>SUCCESS</td>\n",
       "      <td>EMI</td>\n",
       "      <td>UPI</td>\n",
       "      <td>306821M1669830752713</td>\n",
       "      <td>30-11-2022</td>\n",
       "      <td>CASHFREE</td>\n",
       "      <td>8000</td>\n",
       "      <td>1</td>\n",
       "      <td>0.18</td>\n",
       "      <td>7998.82</td>\n",
       "      <td>android_paytm_link</td>\n",
       "      <td>SETTLED</td>\n",
       "      <td>01-12-2022</td>\n",
       "      <td>2</td>\n",
       "    </tr>\n",
       "    <tr>\n",
       "      <th>1</th>\n",
       "      <td>610852</td>\n",
       "      <td>member</td>\n",
       "      <td>2000</td>\n",
       "      <td>SUCCESS</td>\n",
       "      <td>EMI</td>\n",
       "      <td>UPI</td>\n",
       "      <td>610852M1669829773844</td>\n",
       "      <td>30-11-2022</td>\n",
       "      <td>CASHFREE</td>\n",
       "      <td>2000</td>\n",
       "      <td>1</td>\n",
       "      <td>0.18</td>\n",
       "      <td>1998.82</td>\n",
       "      <td>android_gpay_link</td>\n",
       "      <td>SETTLED</td>\n",
       "      <td>01-12-2022</td>\n",
       "      <td>2</td>\n",
       "    </tr>\n",
       "    <tr>\n",
       "      <th>2</th>\n",
       "      <td>1383948</td>\n",
       "      <td>member</td>\n",
       "      <td>2000</td>\n",
       "      <td>SUCCESS</td>\n",
       "      <td>EMI</td>\n",
       "      <td>UPI</td>\n",
       "      <td>1383948M1669829546756</td>\n",
       "      <td>30-11-2022</td>\n",
       "      <td>CASHFREE</td>\n",
       "      <td>2000</td>\n",
       "      <td>1</td>\n",
       "      <td>0.18</td>\n",
       "      <td>1998.82</td>\n",
       "      <td>NaN</td>\n",
       "      <td>SETTLED</td>\n",
       "      <td>01-12-2022</td>\n",
       "      <td>2</td>\n",
       "    </tr>\n",
       "    <tr>\n",
       "      <th>3</th>\n",
       "      <td>2065995</td>\n",
       "      <td>member</td>\n",
       "      <td>1000</td>\n",
       "      <td>SUCCESS</td>\n",
       "      <td>EMI</td>\n",
       "      <td>UPI</td>\n",
       "      <td>2065995M1669829507718</td>\n",
       "      <td>30-11-2022</td>\n",
       "      <td>CASHFREE</td>\n",
       "      <td>1000</td>\n",
       "      <td>1</td>\n",
       "      <td>0.18</td>\n",
       "      <td>998.82</td>\n",
       "      <td>android_paytm_link</td>\n",
       "      <td>SETTLED</td>\n",
       "      <td>01-12-2022</td>\n",
       "      <td>2</td>\n",
       "    </tr>\n",
       "    <tr>\n",
       "      <th>4</th>\n",
       "      <td>35395</td>\n",
       "      <td>member</td>\n",
       "      <td>4000</td>\n",
       "      <td>SUCCESS</td>\n",
       "      <td>EMI</td>\n",
       "      <td>UPI</td>\n",
       "      <td>35395M1669829145265</td>\n",
       "      <td>30-11-2022</td>\n",
       "      <td>CASHFREE</td>\n",
       "      <td>4000</td>\n",
       "      <td>1</td>\n",
       "      <td>0.18</td>\n",
       "      <td>3998.82</td>\n",
       "      <td>NaN</td>\n",
       "      <td>SETTLED</td>\n",
       "      <td>01-12-2022</td>\n",
       "      <td>2</td>\n",
       "    </tr>\n",
       "  </tbody>\n",
       "</table>\n",
       "</div>"
      ],
      "text/plain": [
       "   GOAL_ID STATUS_FLAG  AMOUNT TXN_STATUS TRXNS_TYPE PAYMENT_MODE  \\\n",
       "0   306821      member    4000    SUCCESS        EMI          UPI   \n",
       "1   610852      member    2000    SUCCESS        EMI          UPI   \n",
       "2  1383948      member    2000    SUCCESS        EMI          UPI   \n",
       "3  2065995      member    1000    SUCCESS        EMI          UPI   \n",
       "4    35395      member    4000    SUCCESS        EMI          UPI   \n",
       "\n",
       "              FTR_NUMBER  TRXNS_DATE PAYMENT_GATEWAY  CFAMOUNT  \\\n",
       "0   306821M1669830752713  30-11-2022        CASHFREE      8000   \n",
       "1   610852M1669829773844  30-11-2022        CASHFREE      2000   \n",
       "2  1383948M1669829546756  30-11-2022        CASHFREE      2000   \n",
       "3  2065995M1669829507718  30-11-2022        CASHFREE      1000   \n",
       "4    35395M1669829145265  30-11-2022        CASHFREE      4000   \n",
       "\n",
       "   SERVICE_CHARGE  ST_GST  SETTLEMENT_AMOUNT           BANK_NAME SETTLEMENT  \\\n",
       "0               1    0.18            7998.82  android_paytm_link    SETTLED   \n",
       "1               1    0.18            1998.82   android_gpay_link    SETTLED   \n",
       "2               1    0.18            1998.82                 NaN    SETTLED   \n",
       "3               1    0.18             998.82  android_paytm_link    SETTLED   \n",
       "4               1    0.18            3998.82                 NaN    SETTLED   \n",
       "\n",
       "  SETTLED_DATE  duplicate_count  \n",
       "0   01-12-2022                2  \n",
       "1   01-12-2022                2  \n",
       "2   01-12-2022                2  \n",
       "3   01-12-2022                2  \n",
       "4   01-12-2022                2  "
      ]
     },
     "execution_count": 14,
     "metadata": {},
     "output_type": "execute_result"
    }
   ],
   "source": [
    "cashfree_duplicates.head()"
   ]
  },
  {
   "cell_type": "code",
   "execution_count": 15,
   "id": "b0fa2bef",
   "metadata": {},
   "outputs": [
    {
     "name": "stdout",
     "output_type": "stream",
     "text": [
      "1018835\n"
     ]
    }
   ],
   "source": [
    "# finding total amount due to duplicate rows in cashfree \n",
    "losses=0\n",
    "for x,y in zip(cashfree_duplicates['AMOUNT'],cashfree_duplicates['duplicate_count']):\n",
    "    losses+= x*(y-1)\n",
    "\n",
    "print(losses)"
   ]
  },
  {
   "cell_type": "code",
   "execution_count": 16,
   "id": "f993273b",
   "metadata": {},
   "outputs": [],
   "source": [
    "# Date vs number of duplicates"
   ]
  },
  {
   "cell_type": "code",
   "execution_count": 22,
   "id": "71df50f4",
   "metadata": {},
   "outputs": [
    {
     "data": {
      "text/plain": [
       "<AxesSubplot:xlabel='SETTLED_DATE', ylabel='duplicate_count'>"
      ]
     },
     "execution_count": 22,
     "metadata": {},
     "output_type": "execute_result"
    },
    {
     "data": {
      "image/png": "[encoded data removed]",
      "text/plain": [
       "<Figure size 2000x1000 with 1 Axes>"
      ]
     },
     "metadata": {},
     "output_type": "display_data"
    }
   ],
   "source": [
    "plt.figure(figsize=(20,10))\n",
    "sns.scatterplot(x='SETTLED_DATE',y='duplicate_count', data=cashfree_duplicates)"
   ]
  },
  {
   "cell_type": "code",
   "execution_count": 23,
   "id": "1ae1899a",
   "metadata": {},
   "outputs": [
    {
     "data": {
      "text/html": [
       "<div>\n",
       "<style scoped>\n",
       "    .dataframe tbody tr th:only-of-type {\n",
       "        vertical-align: middle;\n",
       "    }\n",
       "\n",
       "    .dataframe tbody tr th {\n",
       "        vertical-align: top;\n",
       "    }\n",
       "\n",
       "    .dataframe thead th {\n",
       "        text-align: right;\n",
       "    }\n",
       "</style>\n",
       "<table border=\"1\" class=\"dataframe\">\n",
       "  <thead>\n",
       "    <tr style=\"text-align: right;\">\n",
       "      <th></th>\n",
       "      <th>GOAL_ID</th>\n",
       "      <th>STATUS_FLAG</th>\n",
       "      <th>AMOUNT</th>\n",
       "      <th>TXN_STATUS</th>\n",
       "      <th>TRXNS_TYPE</th>\n",
       "      <th>PAYMENT_MODE</th>\n",
       "      <th>FTR_NUMBER</th>\n",
       "      <th>TRXNS_DATE</th>\n",
       "      <th>PAYMENT_GATEWAY</th>\n",
       "      <th>CHITS_GROUP_ID</th>\n",
       "      <th>CUSTOMER_ID</th>\n",
       "      <th>PAYMENT_DATE</th>\n",
       "      <th>USER_GOAL_ID</th>\n",
       "      <th>duplicate_count</th>\n",
       "    </tr>\n",
       "  </thead>\n",
       "  <tbody>\n",
       "    <tr>\n",
       "      <th>0</th>\n",
       "      <td>2572012</td>\n",
       "      <td>member</td>\n",
       "      <td>2000</td>\n",
       "      <td>SUCCESS</td>\n",
       "      <td>EMI</td>\n",
       "      <td>UPI</td>\n",
       "      <td>2572012T1669831762582</td>\n",
       "      <td>30-11-2022</td>\n",
       "      <td>SIPLY</td>\n",
       "      <td>2532701</td>\n",
       "      <td>2572004</td>\n",
       "      <td>01-12-2022</td>\n",
       "      <td>2572012</td>\n",
       "      <td>1</td>\n",
       "    </tr>\n",
       "    <tr>\n",
       "      <th>1</th>\n",
       "      <td>2571996</td>\n",
       "      <td>member</td>\n",
       "      <td>1000</td>\n",
       "      <td>SUCCESS</td>\n",
       "      <td>EMI</td>\n",
       "      <td>UPI</td>\n",
       "      <td>2571996T1669830963046</td>\n",
       "      <td>30-11-2022</td>\n",
       "      <td>SIPLY</td>\n",
       "      <td>2517391</td>\n",
       "      <td>2049287</td>\n",
       "      <td>01-12-2022</td>\n",
       "      <td>2571996</td>\n",
       "      <td>1</td>\n",
       "    </tr>\n",
       "    <tr>\n",
       "      <th>2</th>\n",
       "      <td>2571907</td>\n",
       "      <td>member</td>\n",
       "      <td>4000</td>\n",
       "      <td>SUCCESS</td>\n",
       "      <td>EMI</td>\n",
       "      <td>UPI</td>\n",
       "      <td>2571907T1669828791041</td>\n",
       "      <td>30-11-2022</td>\n",
       "      <td>SIPLY</td>\n",
       "      <td>2475717</td>\n",
       "      <td>2313472</td>\n",
       "      <td>01-12-2022</td>\n",
       "      <td>2571907</td>\n",
       "      <td>2</td>\n",
       "    </tr>\n",
       "    <tr>\n",
       "      <th>3</th>\n",
       "      <td>2571764</td>\n",
       "      <td>member</td>\n",
       "      <td>4000</td>\n",
       "      <td>SUCCESS</td>\n",
       "      <td>EMI</td>\n",
       "      <td>UPI</td>\n",
       "      <td>2571764T1669823537682</td>\n",
       "      <td>30-11-2022</td>\n",
       "      <td>SIPLY</td>\n",
       "      <td>2475717</td>\n",
       "      <td>2464567</td>\n",
       "      <td>01-12-2022</td>\n",
       "      <td>2571764</td>\n",
       "      <td>1</td>\n",
       "    </tr>\n",
       "    <tr>\n",
       "      <th>4</th>\n",
       "      <td>2571739</td>\n",
       "      <td>member</td>\n",
       "      <td>1000</td>\n",
       "      <td>SUCCESS</td>\n",
       "      <td>EMI</td>\n",
       "      <td>UPI</td>\n",
       "      <td>2571739T1669823149425</td>\n",
       "      <td>30-11-2022</td>\n",
       "      <td>SIPLY</td>\n",
       "      <td>2517391</td>\n",
       "      <td>2571683</td>\n",
       "      <td>01-12-2022</td>\n",
       "      <td>2571739</td>\n",
       "      <td>1</td>\n",
       "    </tr>\n",
       "  </tbody>\n",
       "</table>\n",
       "</div>"
      ],
      "text/plain": [
       "   GOAL_ID STATUS_FLAG  AMOUNT TXN_STATUS TRXNS_TYPE PAYMENT_MODE  \\\n",
       "0  2572012      member    2000    SUCCESS        EMI          UPI   \n",
       "1  2571996      member    1000    SUCCESS        EMI          UPI   \n",
       "2  2571907      member    4000    SUCCESS        EMI          UPI   \n",
       "3  2571764      member    4000    SUCCESS        EMI          UPI   \n",
       "4  2571739      member    1000    SUCCESS        EMI          UPI   \n",
       "\n",
       "              FTR_NUMBER  TRXNS_DATE PAYMENT_GATEWAY  CHITS_GROUP_ID  \\\n",
       "0  2572012T1669831762582  30-11-2022           SIPLY         2532701   \n",
       "1  2571996T1669830963046  30-11-2022           SIPLY         2517391   \n",
       "2  2571907T1669828791041  30-11-2022           SIPLY         2475717   \n",
       "3  2571764T1669823537682  30-11-2022           SIPLY         2475717   \n",
       "4  2571739T1669823149425  30-11-2022           SIPLY         2517391   \n",
       "\n",
       "   CUSTOMER_ID PAYMENT_DATE  USER_GOAL_ID  duplicate_count  \n",
       "0      2572004   01-12-2022       2572012                1  \n",
       "1      2049287   01-12-2022       2571996                1  \n",
       "2      2313472   01-12-2022       2571907                2  \n",
       "3      2464567   01-12-2022       2571764                1  \n",
       "4      2571683   01-12-2022       2571739                1  "
      ]
     },
     "execution_count": 23,
     "metadata": {},
     "output_type": "execute_result"
    }
   ],
   "source": [
    "siply_unique.head()"
   ]
  },
  {
   "cell_type": "code",
   "execution_count": 25,
   "id": "d2b3dcd2",
   "metadata": {},
   "outputs": [
    {
     "data": {
      "text/plain": [
       "<AxesSubplot:xlabel='TRXNS_TYPE', ylabel='count'>"
      ]
     },
     "execution_count": 25,
     "metadata": {},
     "output_type": "execute_result"
    },
    {
     "data": {
      "image/png": "[encoded data removed]",
      "text/plain": [
       "<Figure size 640x480 with 1 Axes>"
      ]
     },
     "metadata": {},
     "output_type": "display_data"
    }
   ],
   "source": [
    "sns.countplot(x='TRXNS_TYPE', data=siply_unique)"
   ]
  },
  {
   "cell_type": "code",
   "execution_count": 26,
   "id": "62e68d46",
   "metadata": {},
   "outputs": [
    {
     "data": {
      "text/plain": [
       "<AxesSubplot:xlabel='PAYMENT_MODE', ylabel='count'>"
      ]
     },
     "execution_count": 26,
     "metadata": {},
     "output_type": "execute_result"
    },
    {
     "data": {
      "image/png": "[encoded data removed]",
      "text/plain": [
       "<Figure size 640x480 with 1 Axes>"
      ]
     },
     "metadata": {},
     "output_type": "display_data"
    }
   ],
   "source": [
    "sns.countplot(x='PAYMENT_MODE', data=siply_unique)"
   ]
  },
  {
   "cell_type": "code",
   "execution_count": 31,
   "id": "1f09ca62",
   "metadata": {},
   "outputs": [
    {
     "data": {
      "text/plain": [
       "<AxesSubplot:xlabel='TRXNS_DATE', ylabel='count'>"
      ]
     },
     "execution_count": 31,
     "metadata": {},
     "output_type": "execute_result"
    },
    {
     "data": {
      "image/png": "[encoded data removed]",
      "text/plain": [
       "<Figure size 3000x1000 with 1 Axes>"
      ]
     },
     "metadata": {},
     "output_type": "display_data"
    }
   ],
   "source": [
    "plt.figure(figsize=(30,10))\n",
    "sns.countplot(x='TRXNS_DATE',data=siply_unique)"
   ]
  },
  {
   "cell_type": "code",
   "execution_count": null,
   "id": "e9a2692f",
   "metadata": {},
   "outputs": [],
   "source": [
    "# there is a major spike in the number of transactions via siply as per the above graph."
   ]
  },
  {
   "cell_type": "code",
   "execution_count": 27,
   "id": "7b681e14",
   "metadata": {},
   "outputs": [
    {
     "data": {
      "text/html": [
       "<div>\n",
       "<style scoped>\n",
       "    .dataframe tbody tr th:only-of-type {\n",
       "        vertical-align: middle;\n",
       "    }\n",
       "\n",
       "    .dataframe tbody tr th {\n",
       "        vertical-align: top;\n",
       "    }\n",
       "\n",
       "    .dataframe thead th {\n",
       "        text-align: right;\n",
       "    }\n",
       "</style>\n",
       "<table border=\"1\" class=\"dataframe\">\n",
       "  <thead>\n",
       "    <tr style=\"text-align: right;\">\n",
       "      <th></th>\n",
       "      <th>GOAL_ID</th>\n",
       "      <th>STATUS_FLAG</th>\n",
       "      <th>AMOUNT</th>\n",
       "      <th>TXN_STATUS</th>\n",
       "      <th>TRXNS_TYPE</th>\n",
       "      <th>PAYMENT_MODE</th>\n",
       "      <th>FTR_NUMBER</th>\n",
       "      <th>TRXNS_DATE</th>\n",
       "      <th>PAYMENT_GATEWAY</th>\n",
       "      <th>CFAMOUNT</th>\n",
       "      <th>SERVICE_CHARGE</th>\n",
       "      <th>ST_GST</th>\n",
       "      <th>SETTLEMENT_AMOUNT</th>\n",
       "      <th>BANK_NAME</th>\n",
       "      <th>SETTLEMENT</th>\n",
       "      <th>SETTLED_DATE</th>\n",
       "      <th>duplicate_count</th>\n",
       "    </tr>\n",
       "  </thead>\n",
       "  <tbody>\n",
       "    <tr>\n",
       "      <th>0</th>\n",
       "      <td>306821</td>\n",
       "      <td>member</td>\n",
       "      <td>4000</td>\n",
       "      <td>SUCCESS</td>\n",
       "      <td>EMI</td>\n",
       "      <td>UPI</td>\n",
       "      <td>306821M1669830752713</td>\n",
       "      <td>30-11-2022</td>\n",
       "      <td>CASHFREE</td>\n",
       "      <td>8000</td>\n",
       "      <td>1</td>\n",
       "      <td>0.18</td>\n",
       "      <td>7998.82</td>\n",
       "      <td>android_paytm_link</td>\n",
       "      <td>SETTLED</td>\n",
       "      <td>01-12-2022</td>\n",
       "      <td>2</td>\n",
       "    </tr>\n",
       "    <tr>\n",
       "      <th>1</th>\n",
       "      <td>939319</td>\n",
       "      <td>member</td>\n",
       "      <td>4000</td>\n",
       "      <td>SUCCESS</td>\n",
       "      <td>EMI</td>\n",
       "      <td>UPI</td>\n",
       "      <td>939319M1669829883697</td>\n",
       "      <td>30-11-2022</td>\n",
       "      <td>CASHFREE</td>\n",
       "      <td>4000</td>\n",
       "      <td>1</td>\n",
       "      <td>0.18</td>\n",
       "      <td>3998.82</td>\n",
       "      <td>NaN</td>\n",
       "      <td>SETTLED</td>\n",
       "      <td>01-12-2022</td>\n",
       "      <td>1</td>\n",
       "    </tr>\n",
       "    <tr>\n",
       "      <th>2</th>\n",
       "      <td>610852</td>\n",
       "      <td>member</td>\n",
       "      <td>2000</td>\n",
       "      <td>SUCCESS</td>\n",
       "      <td>EMI</td>\n",
       "      <td>UPI</td>\n",
       "      <td>610852M1669829773844</td>\n",
       "      <td>30-11-2022</td>\n",
       "      <td>CASHFREE</td>\n",
       "      <td>2000</td>\n",
       "      <td>1</td>\n",
       "      <td>0.18</td>\n",
       "      <td>1998.82</td>\n",
       "      <td>android_gpay_link</td>\n",
       "      <td>SETTLED</td>\n",
       "      <td>01-12-2022</td>\n",
       "      <td>2</td>\n",
       "    </tr>\n",
       "    <tr>\n",
       "      <th>3</th>\n",
       "      <td>1383948</td>\n",
       "      <td>member</td>\n",
       "      <td>2000</td>\n",
       "      <td>SUCCESS</td>\n",
       "      <td>EMI</td>\n",
       "      <td>UPI</td>\n",
       "      <td>1383948M1669829546756</td>\n",
       "      <td>30-11-2022</td>\n",
       "      <td>CASHFREE</td>\n",
       "      <td>2000</td>\n",
       "      <td>1</td>\n",
       "      <td>0.18</td>\n",
       "      <td>1998.82</td>\n",
       "      <td>NaN</td>\n",
       "      <td>SETTLED</td>\n",
       "      <td>01-12-2022</td>\n",
       "      <td>2</td>\n",
       "    </tr>\n",
       "    <tr>\n",
       "      <th>4</th>\n",
       "      <td>2065995</td>\n",
       "      <td>member</td>\n",
       "      <td>1000</td>\n",
       "      <td>SUCCESS</td>\n",
       "      <td>EMI</td>\n",
       "      <td>UPI</td>\n",
       "      <td>2065995M1669829507718</td>\n",
       "      <td>30-11-2022</td>\n",
       "      <td>CASHFREE</td>\n",
       "      <td>1000</td>\n",
       "      <td>1</td>\n",
       "      <td>0.18</td>\n",
       "      <td>998.82</td>\n",
       "      <td>android_paytm_link</td>\n",
       "      <td>SETTLED</td>\n",
       "      <td>01-12-2022</td>\n",
       "      <td>2</td>\n",
       "    </tr>\n",
       "  </tbody>\n",
       "</table>\n",
       "</div>"
      ],
      "text/plain": [
       "   GOAL_ID STATUS_FLAG  AMOUNT TXN_STATUS TRXNS_TYPE PAYMENT_MODE  \\\n",
       "0   306821      member    4000    SUCCESS        EMI          UPI   \n",
       "1   939319      member    4000    SUCCESS        EMI          UPI   \n",
       "2   610852      member    2000    SUCCESS        EMI          UPI   \n",
       "3  1383948      member    2000    SUCCESS        EMI          UPI   \n",
       "4  2065995      member    1000    SUCCESS        EMI          UPI   \n",
       "\n",
       "              FTR_NUMBER  TRXNS_DATE PAYMENT_GATEWAY  CFAMOUNT  \\\n",
       "0   306821M1669830752713  30-11-2022        CASHFREE      8000   \n",
       "1   939319M1669829883697  30-11-2022        CASHFREE      4000   \n",
       "2   610852M1669829773844  30-11-2022        CASHFREE      2000   \n",
       "3  1383948M1669829546756  30-11-2022        CASHFREE      2000   \n",
       "4  2065995M1669829507718  30-11-2022        CASHFREE      1000   \n",
       "\n",
       "   SERVICE_CHARGE  ST_GST  SETTLEMENT_AMOUNT           BANK_NAME SETTLEMENT  \\\n",
       "0               1    0.18            7998.82  android_paytm_link    SETTLED   \n",
       "1               1    0.18            3998.82                 NaN    SETTLED   \n",
       "2               1    0.18            1998.82   android_gpay_link    SETTLED   \n",
       "3               1    0.18            1998.82                 NaN    SETTLED   \n",
       "4               1    0.18             998.82  android_paytm_link    SETTLED   \n",
       "\n",
       "  SETTLED_DATE  duplicate_count  \n",
       "0   01-12-2022                2  \n",
       "1   01-12-2022                1  \n",
       "2   01-12-2022                2  \n",
       "3   01-12-2022                2  \n",
       "4   01-12-2022                2  "
      ]
     },
     "execution_count": 27,
     "metadata": {},
     "output_type": "execute_result"
    }
   ],
   "source": [
    "cashfree_unique.head()"
   ]
  },
  {
   "cell_type": "code",
   "execution_count": 29,
   "id": "316ec88d",
   "metadata": {},
   "outputs": [
    {
     "data": {
      "text/plain": [
       "<AxesSubplot:xlabel='BANK_NAME', ylabel='count'>"
      ]
     },
     "execution_count": 29,
     "metadata": {},
     "output_type": "execute_result"
    },
    {
     "data": {
      "image/png": "[encoded data removed]",
      "text/plain": [
       "<Figure size 2000x1000 with 1 Axes>"
      ]
     },
     "metadata": {},
     "output_type": "display_data"
    }
   ],
   "source": [
    "plt.figure(figsize=(20,10))\n",
    "sns.countplot(x='BANK_NAME', data=cashfree_unique)"
   ]
  },
  {
   "cell_type": "code",
   "execution_count": null,
   "id": "938a2673",
   "metadata": {},
   "outputs": [],
   "source": [
    "# most of the cashfree payments are made via, android devices."
   ]
  },
  {
   "cell_type": "code",
   "execution_count": 34,
   "id": "b3cc4b18",
   "metadata": {},
   "outputs": [
    {
     "data": {
      "text/plain": [
       "<AxesSubplot:xlabel='TRXNS_DATE', ylabel='count'>"
      ]
     },
     "execution_count": 34,
     "metadata": {},
     "output_type": "execute_result"
    },
    {
     "data": {
      "image/png": "[encoded data removed]",
      "text/plain": [
       "<Figure size 1000x500 with 1 Axes>"
      ]
     },
     "metadata": {},
     "output_type": "display_data"
    }
   ],
   "source": [
    "plt.figure(figsize=(10,5))\n",
    "sns.countplot(x='TRXNS_DATE',data=cashfree_unique)"
   ]
  },
  {
   "cell_type": "code",
   "execution_count": null,
   "id": "8eee1890",
   "metadata": {},
   "outputs": [],
   "source": [
    "# only three of the dates have cashfree as their payment gateway in them"
   ]
  }
 ],
 "metadata": {
  "kernelspec": {
   "display_name": "Python 3 (ipykernel)",
   "language": "python",
   "name": "python3"
  },
  "language_info": {
   "codemirror_mode": {
    "name": "ipython",
    "version": 3
   },
   "file_extension": ".py",
   "mimetype": "text/x-python",
   "name": "python",
   "nbconvert_exporter": "python",
   "pygments_lexer": "ipython3",
   "version": "3.9.13"
  }
 },
 "nbformat": 4,
 "nbformat_minor": 5
}
